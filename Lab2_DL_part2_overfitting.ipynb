{
  "cells": [
    {
      "cell_type": "markdown",
      "metadata": {
        "id": "NFmOh482SyEF"
      },
      "source": [
        "## Lab 2\n",
        "### Part 2: Dealing with overfitting"
      ]
    },
    {
      "cell_type": "markdown",
      "metadata": {
        "id": "AjzAuO3oSvsI"
      },
      "source": [
        "Today we work with [Fashion-MNIST dataset](https://github.com/zalandoresearch/fashion-mnist) (*hint: it is available in `torchvision`*).\n",
        "\n",
        "Your goal for today:\n",
        "1. Train a FC (fully-connected) network that achieves >= 0.885 test accuracy.\n",
        "2. Cause considerable overfitting by modifying the network (e.g. increasing the number of network parameters and/or layers) and demonstrate in in the appropriate way (e.g. plot loss and accurasy on train and validation set w.r.t. network complexity).\n",
        "3. Try to deal with overfitting (at least partially) by using regularization techniques (Dropout/Batchnorm/...) and demonstrate the results.\n",
        "\n",
        "__Please, write a small report describing your ideas, tries and achieved results in the end of this file.__\n",
        "\n",
        "*Note*: Tasks 2 and 3 are interrelated, in task 3 your goal is to make the network from task 2 less prone to overfitting. Task 1 is independent from 2 and 3.\n",
        "\n",
        "*Note 2*: We recomment to use Google Colab or other machine with GPU acceleration."
      ]
    },
    {
      "cell_type": "code",
      "execution_count": null,
      "metadata": {
        "id": "_KBld6VOSwhW"
      },
      "outputs": [],
      "source": [
        "import torch\n",
        "import torch.nn as nn\n",
        "import torchvision\n",
        "import torchvision.transforms as transforms\n",
        "import torchsummary\n",
        "from IPython.display import clear_output\n",
        "from matplotlib import pyplot as plt\n",
        "from matplotlib.pyplot import figure\n",
        "import numpy as np\n",
        "import os\n",
        "\n",
        "\n",
        "device = 'cuda:0' if torch.cuda.is_available() else 'cpu'"
      ]
    },
    {
      "cell_type": "code",
      "execution_count": null,
      "metadata": {
        "id": "EdLOG0XqS_g5",
        "colab": {
          "base_uri": "https://localhost:8080/"
        },
        "outputId": "f933d0e0-2b51-428d-9f8e-614b95f6f9c0"
      },
      "outputs": [
        {
          "output_type": "stream",
          "name": "stdout",
          "text": [
            "Directory fmnist is created!\n"
          ]
        }
      ],
      "source": [
        "# Technical function\n",
        "def mkdir(path):\n",
        "    if not os.path.exists(root_path):\n",
        "        os.mkdir(root_path)\n",
        "        print('Directory', path, 'is created!')\n",
        "    else:\n",
        "        print('Directory', path, 'already exists!')\n",
        "        \n",
        "root_path = 'fmnist'\n",
        "mkdir(root_path)"
      ]
    },
    {
      "cell_type": "code",
      "execution_count": null,
      "metadata": {
        "id": "qt6LE7XaTDT9",
        "colab": {
          "base_uri": "https://localhost:8080/",
          "height": 431,
          "referenced_widgets": [
            "d76ac2c6fd9946c38ba7a5973590cb47",
            "42ebbf560ece47e39e94da626f4f4703",
            "c14e39883f60488ab548bbf899fd4e1a",
            "fc089abe87ea452eb304b21a52475fc0",
            "b7dfa48686aa449083fef1d99471ac4c",
            "e17359fa9c3344e781b863084334cb71",
            "40123fe9698d4b14b411f20e3f507e88",
            "3d6d657e20e7473ebdfcbf6cf26a9638",
            "d26ef12dd78648e3abd6d319d8ed3c8c",
            "870001234a2d40adb50a0aa2dedfc555",
            "55459a43a2264593bef40cbd9e4d9944",
            "eac899f503be412786003e0b5524dd77",
            "b926633dbdeb45efbffa830c3a3a5b13",
            "b31a786796a548978a51c6a3dcae8631",
            "cbe0546538584a24b643d960ee26fe97",
            "504839292e844adb819563ff93ab11da",
            "3719236e9dff4305a495900c8e206ab0",
            "edf2a310330e4fd59e8eba6d39cd56c3",
            "610d1cdbe13840d7a10b5a1ae110b55a",
            "7d92fa256f684fb395d0db89e2e79e26",
            "7b087fdcd76445f89455a631f2c4e994",
            "c37408ae23ad4eb98d669eec06cf0b64",
            "e00eff3dffd1436597ccac40719d5b5c",
            "13fae0f4df944b629edbb8246cdd94ba",
            "017a93cc4171447abfee54e3fa7d84f4",
            "44cbcd42d1c24c818dd952f22292fd52",
            "8ac2092ef20746508a6e7b12c8919746",
            "485c88bc849743118bb0f5b2129b2b79",
            "ae3bcecfecb8461e9ac3904730a39115",
            "cad09731e59f4f7cab6506420d01a774",
            "fc1fd234224f4bd08a5a88df3bcd38d3",
            "9416adefa4ee4fd8be3865914f4c26e2",
            "bd2eac056d2b447a961d2710cbb28b68",
            "3925544baceb4e6ca9a2ce51e3fa7d72",
            "aa7e1bb81c8c4a019d3031c4bdbdf63a",
            "310f1be9f2674b46b30d2db853b55f5e",
            "e62f87fc81f44a6e83760b724b79b607",
            "4c761140ce064c908b163b0f50a2ac83",
            "df54dc2e5a744c9eb548b94550fe1801",
            "242f6b1d12f54581aed8d18ff7c42866",
            "c4e877a3b5464ee9850c5e1dd9306e8c",
            "3be95d94e68c48b4bea89f85539e8d20",
            "79653fdac3cc428481db1f03e3ea386d",
            "e51c22bf836146feaa15b0a438f1449f"
          ]
        },
        "outputId": "e051f295-eda1-4efd-88e8-47f4cb27a553"
      },
      "outputs": [
        {
          "output_type": "stream",
          "name": "stdout",
          "text": [
            "Downloading http://fashion-mnist.s3-website.eu-central-1.amazonaws.com/train-images-idx3-ubyte.gz\n",
            "Downloading http://fashion-mnist.s3-website.eu-central-1.amazonaws.com/train-images-idx3-ubyte.gz to fmnist/FashionMNIST/raw/train-images-idx3-ubyte.gz\n"
          ]
        },
        {
          "output_type": "display_data",
          "data": {
            "text/plain": [
              "  0%|          | 0/26421880 [00:00<?, ?it/s]"
            ],
            "application/vnd.jupyter.widget-view+json": {
              "version_major": 2,
              "version_minor": 0,
              "model_id": "d76ac2c6fd9946c38ba7a5973590cb47"
            }
          },
          "metadata": {}
        },
        {
          "output_type": "stream",
          "name": "stdout",
          "text": [
            "Extracting fmnist/FashionMNIST/raw/train-images-idx3-ubyte.gz to fmnist/FashionMNIST/raw\n",
            "\n",
            "Downloading http://fashion-mnist.s3-website.eu-central-1.amazonaws.com/train-labels-idx1-ubyte.gz\n",
            "Downloading http://fashion-mnist.s3-website.eu-central-1.amazonaws.com/train-labels-idx1-ubyte.gz to fmnist/FashionMNIST/raw/train-labels-idx1-ubyte.gz\n"
          ]
        },
        {
          "output_type": "display_data",
          "data": {
            "text/plain": [
              "  0%|          | 0/29515 [00:00<?, ?it/s]"
            ],
            "application/vnd.jupyter.widget-view+json": {
              "version_major": 2,
              "version_minor": 0,
              "model_id": "eac899f503be412786003e0b5524dd77"
            }
          },
          "metadata": {}
        },
        {
          "output_type": "stream",
          "name": "stdout",
          "text": [
            "Extracting fmnist/FashionMNIST/raw/train-labels-idx1-ubyte.gz to fmnist/FashionMNIST/raw\n",
            "\n",
            "Downloading http://fashion-mnist.s3-website.eu-central-1.amazonaws.com/t10k-images-idx3-ubyte.gz\n",
            "Downloading http://fashion-mnist.s3-website.eu-central-1.amazonaws.com/t10k-images-idx3-ubyte.gz to fmnist/FashionMNIST/raw/t10k-images-idx3-ubyte.gz\n"
          ]
        },
        {
          "output_type": "display_data",
          "data": {
            "text/plain": [
              "  0%|          | 0/4422102 [00:00<?, ?it/s]"
            ],
            "application/vnd.jupyter.widget-view+json": {
              "version_major": 2,
              "version_minor": 0,
              "model_id": "e00eff3dffd1436597ccac40719d5b5c"
            }
          },
          "metadata": {}
        },
        {
          "output_type": "stream",
          "name": "stdout",
          "text": [
            "Extracting fmnist/FashionMNIST/raw/t10k-images-idx3-ubyte.gz to fmnist/FashionMNIST/raw\n",
            "\n",
            "Downloading http://fashion-mnist.s3-website.eu-central-1.amazonaws.com/t10k-labels-idx1-ubyte.gz\n",
            "Downloading http://fashion-mnist.s3-website.eu-central-1.amazonaws.com/t10k-labels-idx1-ubyte.gz to fmnist/FashionMNIST/raw/t10k-labels-idx1-ubyte.gz\n"
          ]
        },
        {
          "output_type": "display_data",
          "data": {
            "text/plain": [
              "  0%|          | 0/5148 [00:00<?, ?it/s]"
            ],
            "application/vnd.jupyter.widget-view+json": {
              "version_major": 2,
              "version_minor": 0,
              "model_id": "3925544baceb4e6ca9a2ce51e3fa7d72"
            }
          },
          "metadata": {}
        },
        {
          "output_type": "stream",
          "name": "stdout",
          "text": [
            "Extracting fmnist/FashionMNIST/raw/t10k-labels-idx1-ubyte.gz to fmnist/FashionMNIST/raw\n",
            "\n"
          ]
        }
      ],
      "source": [
        "download = True\n",
        "train_transform = transforms.ToTensor()\n",
        "test_transform = transforms.ToTensor()\n",
        "transforms.Compose((transforms.ToTensor()))\n",
        "\n",
        "\n",
        "fmnist_dataset_train = torchvision.datasets.FashionMNIST(root_path, \n",
        "                                                        train=True, \n",
        "                                                        transform=train_transform,\n",
        "                                                        target_transform=None,\n",
        "                                                        download=download)\n",
        "fmnist_dataset_test = torchvision.datasets.FashionMNIST(root_path, \n",
        "                                                       train=False, \n",
        "                                                       transform=test_transform,\n",
        "                                                       target_transform=None,\n",
        "                                                       download=download)"
      ]
    },
    {
      "cell_type": "code",
      "execution_count": null,
      "metadata": {
        "id": "71YP0SPwTIxD"
      },
      "outputs": [],
      "source": [
        "train_loader = torch.utils.data.DataLoader(fmnist_dataset_train, \n",
        "                                           batch_size=128,\n",
        "                                           shuffle=True,\n",
        "                                           num_workers=2)\n",
        "test_loader = torch.utils.data.DataLoader(fmnist_dataset_test,\n",
        "                                          batch_size=256,\n",
        "                                          shuffle=False,\n",
        "                                          num_workers=2)"
      ]
    },
    {
      "cell_type": "code",
      "execution_count": null,
      "metadata": {
        "id": "v_YFmF7NTWrQ",
        "colab": {
          "base_uri": "https://localhost:8080/"
        },
        "outputId": "68babbfb-5723-40ac-e809-42b6d900f6dc"
      },
      "outputs": [
        {
          "output_type": "execute_result",
          "data": {
            "text/plain": [
              "10000"
            ]
          },
          "metadata": {},
          "execution_count": 5
        }
      ],
      "source": [
        "len(fmnist_dataset_test)"
      ]
    },
    {
      "cell_type": "code",
      "execution_count": null,
      "metadata": {
        "id": "aHca15bOTY4B",
        "colab": {
          "base_uri": "https://localhost:8080/"
        },
        "outputId": "75bd5f90-d4d3-47bf-f4d1-b4964e33ac6c"
      },
      "outputs": [
        {
          "output_type": "stream",
          "name": "stdout",
          "text": [
            "torch.Size([128, 1, 28, 28])\n",
            "torch.Size([128])\n",
            "128\n"
          ]
        }
      ],
      "source": [
        "for img, label in train_loader:\n",
        "    print(img.shape)\n",
        "#     print(img)\n",
        "    print(label.shape)\n",
        "    print(label.size(0))\n",
        "    break"
      ]
    },
    {
      "cell_type": "markdown",
      "metadata": {
        "id": "b6OOOffHTfX5"
      },
      "source": [
        "### Task 1\n",
        "Train a network that achieves $\\geq 0.885$ test accuracy. It's fine to use only Linear (`nn.Linear`) layers and activations/dropout/batchnorm. Convolutional layers might be a great use, but we will meet them a bit later."
      ]
    },
    {
      "cell_type": "code",
      "execution_count": null,
      "metadata": {
        "id": "ftpkTjxlTcFx"
      },
      "outputs": [],
      "source": [
        "class TinyNeuralNetwork(nn.Module):\n",
        "    def __init__(self, input_shape=28*28, num_classes=10, input_channels=1):\n",
        "        super(self.__class__, self).__init__()\n",
        "        self.model = nn.Sequential(\n",
        "            nn.Flatten(), # This layer converts image into a vector to use Linear layers afterwards\n",
        "            # Your network structure comes here\n",
        "            nn.Linear(input_shape, input_shape // 2),\n",
        "            nn.ReLU(),\n",
        "            nn.Linear(input_shape // 2, input_shape // 4),\n",
        "            nn.ReLU(),\n",
        "            nn.Linear(input_shape // 4, input_shape // 8),\n",
        "            nn.ReLU(),\n",
        "            nn.Linear(input_shape // 8, num_classes)\n",
        "        )\n",
        "        \n",
        "    def forward(self, inp):       \n",
        "        out = self.model(inp)\n",
        "        return out"
      ]
    },
    {
      "cell_type": "code",
      "execution_count": null,
      "metadata": {
        "id": "r8N6wO0s3z-4",
        "colab": {
          "base_uri": "https://localhost:8080/"
        },
        "outputId": "6cbefa77-334d-4f76-aee9-dd0046478e62"
      },
      "outputs": [
        {
          "output_type": "stream",
          "name": "stdout",
          "text": [
            "----------------------------------------------------------------\n",
            "        Layer (type)               Output Shape         Param #\n",
            "================================================================\n",
            "           Flatten-1                  [-1, 784]               0\n",
            "            Linear-2                  [-1, 392]         307,720\n",
            "              ReLU-3                  [-1, 392]               0\n",
            "            Linear-4                  [-1, 196]          77,028\n",
            "              ReLU-5                  [-1, 196]               0\n",
            "            Linear-6                   [-1, 98]          19,306\n",
            "              ReLU-7                   [-1, 98]               0\n",
            "            Linear-8                   [-1, 10]             990\n",
            "================================================================\n",
            "Total params: 405,044\n",
            "Trainable params: 405,044\n",
            "Non-trainable params: 0\n",
            "----------------------------------------------------------------\n",
            "Input size (MB): 0.00\n",
            "Forward/backward pass size (MB): 0.02\n",
            "Params size (MB): 1.55\n",
            "Estimated Total Size (MB): 1.56\n",
            "----------------------------------------------------------------\n"
          ]
        }
      ],
      "source": [
        "torchsummary.summary(TinyNeuralNetwork().to(device), (28*28,))"
      ]
    },
    {
      "cell_type": "markdown",
      "metadata": {
        "id": "544PGKEnjPr5"
      },
      "source": [
        "Your experiments come here:"
      ]
    },
    {
      "cell_type": "code",
      "execution_count": null,
      "metadata": {
        "id": "i3POFj90Ti-6",
        "colab": {
          "base_uri": "https://localhost:8080/"
        },
        "outputId": "ac24c960-cd4f-4834-e868-9491e1bb043c"
      },
      "outputs": [
        {
          "output_type": "stream",
          "name": "stdout",
          "text": [
            "training loss: 0.586232\n",
            "training accuracy: 0.789\n",
            "validation loss: 0.446197\n",
            "validation accuracy: 0.840\n",
            "training loss: 0.380110\n",
            "training accuracy: 0.861\n",
            "validation loss: 0.376154\n",
            "validation accuracy: 0.862\n",
            "training loss: 0.339154\n",
            "training accuracy: 0.875\n",
            "validation loss: 0.383719\n",
            "validation accuracy: 0.861\n",
            "training loss: 0.316974\n",
            "training accuracy: 0.882\n",
            "validation loss: 0.345670\n",
            "validation accuracy: 0.876\n",
            "training loss: 0.292581\n",
            "training accuracy: 0.891\n",
            "validation loss: 0.332547\n",
            "validation accuracy: 0.882\n",
            "training loss: 0.276692\n",
            "training accuracy: 0.897\n",
            "validation loss: 0.328787\n",
            "validation accuracy: 0.883\n",
            "training loss: 0.262800\n",
            "training accuracy: 0.901\n",
            "validation loss: 0.327425\n",
            "validation accuracy: 0.883\n",
            "training loss: 0.252270\n",
            "training accuracy: 0.905\n",
            "validation loss: 0.330748\n",
            "validation accuracy: 0.880\n",
            "training loss: 0.238583\n",
            "training accuracy: 0.911\n",
            "validation loss: 0.312237\n",
            "validation accuracy: 0.888\n",
            "training loss: 0.232931\n",
            "training accuracy: 0.912\n",
            "validation loss: 0.312903\n",
            "validation accuracy: 0.890\n",
            "training loss: 0.223135\n",
            "training accuracy: 0.916\n",
            "validation loss: 0.316258\n",
            "validation accuracy: 0.887\n",
            "training loss: 0.214360\n",
            "training accuracy: 0.920\n",
            "validation loss: 0.323759\n",
            "validation accuracy: 0.889\n",
            "training loss: 0.203776\n",
            "training accuracy: 0.922\n",
            "validation loss: 0.326620\n",
            "validation accuracy: 0.895\n",
            "training loss: 0.197097\n",
            "training accuracy: 0.925\n",
            "validation loss: 0.317556\n",
            "validation accuracy: 0.891\n",
            "training loss: 0.190074\n",
            "training accuracy: 0.928\n",
            "validation loss: 0.323135\n",
            "validation accuracy: 0.893\n",
            "training loss: 0.180513\n",
            "training accuracy: 0.931\n",
            "validation loss: 0.345403\n",
            "validation accuracy: 0.889\n",
            "training loss: 0.177200\n",
            "training accuracy: 0.933\n",
            "validation loss: 0.353016\n",
            "validation accuracy: 0.890\n",
            "training loss: 0.170922\n",
            "training accuracy: 0.934\n",
            "validation loss: 0.336135\n",
            "validation accuracy: 0.899\n",
            "training loss: 0.163426\n",
            "training accuracy: 0.937\n",
            "validation loss: 0.343763\n",
            "validation accuracy: 0.896\n",
            "training loss: 0.158330\n",
            "training accuracy: 0.940\n",
            "validation loss: 0.338009\n",
            "validation accuracy: 0.896\n"
          ]
        }
      ],
      "source": [
        "model = TinyNeuralNetwork().to(device)\n",
        "opt = torch.optim.Adam(model.parameters(), lr=1e-3) # YOUR CODE HERE\n",
        "loss_func = nn.CrossEntropyLoss() # YOUR CODE HERE\n",
        "\n",
        "def fit(model, train_loader, val_loader, loss_fn, opt, n_epochs: int):\n",
        "    train_loss = []\n",
        "    train_accuracy = []\n",
        "    val_loss = []\n",
        "    val_accuracy = []\n",
        "\n",
        "    \n",
        "    for epoch in range(n_epochs):\n",
        "        ep_train_loss = []\n",
        "        ep_train_accuracy = []\n",
        "        ep_val_loss = []\n",
        "        ep_val_accuracy = []\n",
        "\n",
        "\n",
        "        model.train(True) \n",
        "        for X_batch, y_batch in train_loader:\n",
        "            X_batch = X_batch.to(device)\n",
        "            y_batch = y_batch.to(device)\n",
        "            opt.zero_grad()\n",
        "            preds = model(X_batch)\n",
        "            y_pred = torch.argmax(preds, axis=1)\n",
        "            ep_train_accuracy.append(torch.sum(y_pred==y_batch).item() / len(y_batch))\n",
        "            loss = loss_fn(preds, y_batch)\n",
        "            loss.backward()\n",
        "            opt.step()\n",
        "            ep_train_loss.append(loss.item())\n",
        "\n",
        "        model.train(False) \n",
        "        with torch.no_grad():\n",
        "            for X_batch, y_batch in val_loader:\n",
        "                X_batch = X_batch.to(device)\n",
        "                y_batch = y_batch.to(device)\n",
        "                preds = model(X_batch)\n",
        "                loss = loss_fn(preds, y_batch)\n",
        "                ep_val_loss.append(loss.item())\n",
        "                y_pred = torch.argmax(preds, axis=1)\n",
        "                ep_val_accuracy.append(torch.sum(y_pred==y_batch).item() / len(y_batch))\n",
        "\n",
        "        train_loss.append(np.mean(ep_train_loss))\n",
        "        train_accuracy.append(np.mean(ep_train_accuracy))\n",
        "        val_loss.append(np.mean(ep_val_loss))\n",
        "        val_accuracy.append(np.mean(ep_val_accuracy))\n",
        "        \n",
        "        print(f\"training loss: {train_loss[-1]:.6f}\")\n",
        "        print(f\"training accuracy: {train_accuracy[-1]:.3f}\")\n",
        "        print(f\"validation loss: {val_loss[-1]:.6f}\")\n",
        "        print(f\"validation accuracy: {val_accuracy[-1]:.3f}\")\n",
        "\n",
        "    return train_loss, val_loss, train_accuracy, val_accuracy\n",
        "\n",
        "# Your experiments, training and validation loops here\n",
        "train_loss, val_loss, train_accuracy, val_accuracy = fit(model, train_loader, test_loader, loss_func, opt, 20)"
      ]
    },
    {
      "cell_type": "code",
      "source": [
        "fig, axes = plt.subplots(1, 2, figsize=(15, 5))\n",
        "\n",
        "axes[0].set_title('Loss')\n",
        "axes[0].plot(train_loss, label='train')\n",
        "axes[0].plot(val_loss, label='validation')\n",
        "axes[0].set_xlabel('epoch')\n",
        "axes[0].legend()\n",
        "\n",
        "axes[1].set_title('Accuracy')\n",
        "axes[1].plot(train_accuracy, label='train')\n",
        "axes[1].plot(val_accuracy, label='validation')\n",
        "axes[1].set_xlabel('epoch')\n",
        "axes[1].legend()"
      ],
      "metadata": {
        "colab": {
          "base_uri": "https://localhost:8080/",
          "height": 368
        },
        "id": "xUyX9uwG0LZi",
        "outputId": "f5dda287-4f5d-4a4b-a58b-1cc8519ab0bd"
      },
      "execution_count": null,
      "outputs": [
        {
          "output_type": "execute_result",
          "data": {
            "text/plain": [
              "<matplotlib.legend.Legend at 0x7fc9400d9670>"
            ]
          },
          "metadata": {},
          "execution_count": 10
        },
        {
          "output_type": "display_data",
          "data": {
            "text/plain": [
              "<Figure size 1080x360 with 2 Axes>"
            ],
            "image/png": "[encoded data removed]"
          },
          "metadata": {
            "needs_background": "light"
          }
        }
      ]
    },
    {
      "cell_type": "code",
      "source": [
        "def test(model, test_loader):\n",
        "    accuracy = []\n",
        "    model.train(False) \n",
        "    with torch.no_grad():\n",
        "        for X_batch, y_batch in test_loader:\n",
        "            X_batch = X_batch.to(device)\n",
        "            y_batch = y_batch.to(device)\n",
        "            predictions = model(X_batch)\n",
        "            y_pred = torch.argmax(predictions, axis=1)\n",
        "            accuracy.append(torch.sum(y_pred==y_batch).item() / len(y_batch))\n",
        "    return np.mean(accuracy)"
      ],
      "metadata": {
        "id": "5K9Zk2vV1E7k"
      },
      "execution_count": null,
      "outputs": []
    },
    {
      "cell_type": "code",
      "source": [
        "print(\"Test_accuracy = \", test(model, test_loader))"
      ],
      "metadata": {
        "colab": {
          "base_uri": "https://localhost:8080/"
        },
        "id": "xlv3HWki1Hvr",
        "outputId": "4257928a-f726-4ce8-d907-38e8bfe934aa"
      },
      "execution_count": null,
      "outputs": [
        {
          "output_type": "stream",
          "name": "stdout",
          "text": [
            "Test_accuracy =  0.89599609375\n"
          ]
        }
      ]
    },
    {
      "cell_type": "markdown",
      "metadata": {
        "id": "L7ISqkjmCPB1"
      },
      "source": [
        "### Task 2: Overfit it.\n",
        "Build a network that will overfit to this dataset. Demonstrate the overfitting in the appropriate way (e.g. plot loss and accurasy on train and test set w.r.t. network complexity).\n",
        "\n",
        "*Note:* you also might decrease the size of `train` dataset to enforce the overfitting and speed up the computations."
      ]
    },
    {
      "cell_type": "code",
      "execution_count": null,
      "metadata": {
        "id": "H12uAWiGBwJx"
      },
      "outputs": [],
      "source": [
        "class OverfittingNeuralNetwork(nn.Module):\n",
        "    def __init__(self, input_shape=28*28, num_classes=10, input_channels=1):\n",
        "        super(self.__class__, self).__init__()\n",
        "        self.model = nn.Sequential(\n",
        "            nn.Flatten(), # This layer converts image into a vector to use Linear layers afterwards\n",
        "            # Your network structure comes here\n",
        "            nn.Linear(input_shape, input_shape * 2),\n",
        "            nn.ReLU(),\n",
        "            nn.Linear(input_shape * 2, input_shape // 2),\n",
        "            nn.ReLU(),\n",
        "            nn.Linear(input_shape // 2, input_shape // 8),\n",
        "            nn.ReLU(),\n",
        "            nn.Linear(input_shape // 8, input_shape // 16),\n",
        "            nn.ReLU(),\n",
        "            nn.Linear(input_shape // 16, num_classes)\n",
        "        )\n",
        "        \n",
        "    def forward(self, inp):       \n",
        "        out = self.model(inp)\n",
        "        return out"
      ]
    },
    {
      "cell_type": "code",
      "source": [
        "indices = np.arange(20000)\n",
        "train_dataset_decreased = torch.utils.data.Subset(fmnist_dataset_train, indices)\n",
        "train_loader = torch.utils.data.DataLoader(train_dataset_decreased, \n",
        "                                           batch_size=256,\n",
        "                                           shuffle=True,\n",
        "                                           num_workers=2)"
      ],
      "metadata": {
        "id": "mtyPx8rP2nsf"
      },
      "execution_count": null,
      "outputs": []
    },
    {
      "cell_type": "code",
      "execution_count": null,
      "metadata": {
        "id": "JgXAKCpvCwqH",
        "colab": {
          "base_uri": "https://localhost:8080/"
        },
        "outputId": "0a1a9097-4a7f-4780-caa6-9d3bf5c7704b"
      },
      "outputs": [
        {
          "output_type": "stream",
          "name": "stdout",
          "text": [
            "----------------------------------------------------------------\n",
            "        Layer (type)               Output Shape         Param #\n",
            "================================================================\n",
            "           Flatten-1                  [-1, 784]               0\n",
            "            Linear-2                 [-1, 1568]       1,230,880\n",
            "              ReLU-3                 [-1, 1568]               0\n",
            "            Linear-4                  [-1, 392]         615,048\n",
            "              ReLU-5                  [-1, 392]               0\n",
            "            Linear-6                   [-1, 98]          38,514\n",
            "              ReLU-7                   [-1, 98]               0\n",
            "            Linear-8                   [-1, 49]           4,851\n",
            "              ReLU-9                   [-1, 49]               0\n",
            "           Linear-10                   [-1, 10]             500\n",
            "================================================================\n",
            "Total params: 1,889,793\n",
            "Trainable params: 1,889,793\n",
            "Non-trainable params: 0\n",
            "----------------------------------------------------------------\n",
            "Input size (MB): 0.00\n",
            "Forward/backward pass size (MB): 0.04\n",
            "Params size (MB): 7.21\n",
            "Estimated Total Size (MB): 7.25\n",
            "----------------------------------------------------------------\n"
          ]
        }
      ],
      "source": [
        "torchsummary.summary(OverfittingNeuralNetwork().to(device), (28*28,))"
      ]
    },
    {
      "cell_type": "code",
      "source": [
        "indices = torch.arange(10000)\n",
        "dataset_train_decr = torch.utils.data.Subset(fmnist_dataset_train, indices)\n",
        "\n",
        "train_loader_decr = torch.utils.data.DataLoader(dataset_train_decr, \n",
        "                                           batch_size=128,\n",
        "                                           shuffle=True,\n",
        "                                           num_workers=2)"
      ],
      "metadata": {
        "id": "7_aFsguzzhfM"
      },
      "execution_count": null,
      "outputs": []
    },
    {
      "cell_type": "code",
      "execution_count": null,
      "metadata": {
        "id": "8Vi3n9G43z-7",
        "colab": {
          "base_uri": "https://localhost:8080/"
        },
        "outputId": "398cb6bf-723c-443d-c5f7-43203f5be944"
      },
      "outputs": [
        {
          "output_type": "stream",
          "name": "stdout",
          "text": [
            "training loss: 0.960240\n",
            "training accuracy: 0.647\n",
            "validation loss: 0.625468\n",
            "validation accuracy: 0.769\n",
            "training loss: 0.532328\n",
            "training accuracy: 0.806\n",
            "validation loss: 0.598006\n",
            "validation accuracy: 0.769\n",
            "training loss: 0.446585\n",
            "training accuracy: 0.840\n",
            "validation loss: 0.499040\n",
            "validation accuracy: 0.815\n",
            "training loss: 0.408186\n",
            "training accuracy: 0.853\n",
            "validation loss: 0.448118\n",
            "validation accuracy: 0.843\n",
            "training loss: 0.368329\n",
            "training accuracy: 0.866\n",
            "validation loss: 0.414312\n",
            "validation accuracy: 0.854\n",
            "training loss: 0.348217\n",
            "training accuracy: 0.872\n",
            "validation loss: 0.389968\n",
            "validation accuracy: 0.860\n",
            "training loss: 0.324020\n",
            "training accuracy: 0.882\n",
            "validation loss: 0.434262\n",
            "validation accuracy: 0.849\n",
            "training loss: 0.316567\n",
            "training accuracy: 0.883\n",
            "validation loss: 0.388649\n",
            "validation accuracy: 0.864\n",
            "training loss: 0.290868\n",
            "training accuracy: 0.891\n",
            "validation loss: 0.432662\n",
            "validation accuracy: 0.851\n",
            "training loss: 0.286282\n",
            "training accuracy: 0.894\n",
            "validation loss: 0.389042\n",
            "validation accuracy: 0.862\n",
            "training loss: 0.276744\n",
            "training accuracy: 0.897\n",
            "validation loss: 0.436022\n",
            "validation accuracy: 0.848\n",
            "training loss: 0.269229\n",
            "training accuracy: 0.899\n",
            "validation loss: 0.395337\n",
            "validation accuracy: 0.864\n",
            "training loss: 0.248434\n",
            "training accuracy: 0.906\n",
            "validation loss: 0.405397\n",
            "validation accuracy: 0.860\n",
            "training loss: 0.244197\n",
            "training accuracy: 0.908\n",
            "validation loss: 0.406511\n",
            "validation accuracy: 0.861\n",
            "training loss: 0.235930\n",
            "training accuracy: 0.913\n",
            "validation loss: 0.392783\n",
            "validation accuracy: 0.872\n",
            "training loss: 0.218965\n",
            "training accuracy: 0.917\n",
            "validation loss: 0.430252\n",
            "validation accuracy: 0.859\n",
            "training loss: 0.215962\n",
            "training accuracy: 0.919\n",
            "validation loss: 0.417832\n",
            "validation accuracy: 0.868\n",
            "training loss: 0.217279\n",
            "training accuracy: 0.919\n",
            "validation loss: 0.383868\n",
            "validation accuracy: 0.871\n",
            "training loss: 0.192146\n",
            "training accuracy: 0.927\n",
            "validation loss: 0.414456\n",
            "validation accuracy: 0.867\n",
            "training loss: 0.191630\n",
            "training accuracy: 0.927\n",
            "validation loss: 0.406354\n",
            "validation accuracy: 0.871\n",
            "training loss: 0.183975\n",
            "training accuracy: 0.930\n",
            "validation loss: 0.399899\n",
            "validation accuracy: 0.872\n",
            "training loss: 0.184251\n",
            "training accuracy: 0.933\n",
            "validation loss: 0.442854\n",
            "validation accuracy: 0.864\n",
            "training loss: 0.170276\n",
            "training accuracy: 0.936\n",
            "validation loss: 0.454786\n",
            "validation accuracy: 0.861\n",
            "training loss: 0.162882\n",
            "training accuracy: 0.938\n",
            "validation loss: 0.450075\n",
            "validation accuracy: 0.869\n",
            "training loss: 0.159959\n",
            "training accuracy: 0.941\n",
            "validation loss: 0.439278\n",
            "validation accuracy: 0.874\n",
            "training loss: 0.149690\n",
            "training accuracy: 0.943\n",
            "validation loss: 0.418517\n",
            "validation accuracy: 0.878\n",
            "training loss: 0.134166\n",
            "training accuracy: 0.951\n",
            "validation loss: 0.488281\n",
            "validation accuracy: 0.862\n",
            "training loss: 0.152253\n",
            "training accuracy: 0.945\n",
            "validation loss: 0.479293\n",
            "validation accuracy: 0.871\n",
            "training loss: 0.134392\n",
            "training accuracy: 0.949\n",
            "validation loss: 0.472497\n",
            "validation accuracy: 0.872\n",
            "training loss: 0.131417\n",
            "training accuracy: 0.951\n",
            "validation loss: 0.458834\n",
            "validation accuracy: 0.879\n",
            "training loss: 0.118365\n",
            "training accuracy: 0.957\n",
            "validation loss: 0.476261\n",
            "validation accuracy: 0.876\n",
            "training loss: 0.107615\n",
            "training accuracy: 0.960\n",
            "validation loss: 0.534374\n",
            "validation accuracy: 0.875\n",
            "training loss: 0.129198\n",
            "training accuracy: 0.950\n",
            "validation loss: 0.502039\n",
            "validation accuracy: 0.874\n",
            "training loss: 0.115699\n",
            "training accuracy: 0.958\n",
            "validation loss: 0.545824\n",
            "validation accuracy: 0.871\n",
            "training loss: 0.107095\n",
            "training accuracy: 0.961\n",
            "validation loss: 0.515635\n",
            "validation accuracy: 0.871\n",
            "training loss: 0.088437\n",
            "training accuracy: 0.967\n",
            "validation loss: 0.593592\n",
            "validation accuracy: 0.863\n",
            "training loss: 0.098539\n",
            "training accuracy: 0.963\n",
            "validation loss: 0.521289\n",
            "validation accuracy: 0.874\n",
            "training loss: 0.102370\n",
            "training accuracy: 0.961\n",
            "validation loss: 0.592231\n",
            "validation accuracy: 0.869\n",
            "training loss: 0.108981\n",
            "training accuracy: 0.960\n",
            "validation loss: 0.552989\n",
            "validation accuracy: 0.870\n",
            "training loss: 0.108222\n",
            "training accuracy: 0.960\n",
            "validation loss: 0.546457\n",
            "validation accuracy: 0.870\n",
            "training loss: 0.081403\n",
            "training accuracy: 0.970\n",
            "validation loss: 0.570913\n",
            "validation accuracy: 0.877\n",
            "training loss: 0.077987\n",
            "training accuracy: 0.970\n",
            "validation loss: 0.586913\n",
            "validation accuracy: 0.871\n",
            "training loss: 0.076144\n",
            "training accuracy: 0.972\n",
            "validation loss: 0.599203\n",
            "validation accuracy: 0.873\n",
            "training loss: 0.076259\n",
            "training accuracy: 0.971\n",
            "validation loss: 0.614413\n",
            "validation accuracy: 0.875\n",
            "training loss: 0.069129\n",
            "training accuracy: 0.974\n",
            "validation loss: 0.630681\n",
            "validation accuracy: 0.873\n",
            "training loss: 0.074659\n",
            "training accuracy: 0.972\n",
            "validation loss: 0.667931\n",
            "validation accuracy: 0.872\n",
            "training loss: 0.081976\n",
            "training accuracy: 0.971\n",
            "validation loss: 0.652364\n",
            "validation accuracy: 0.863\n",
            "training loss: 0.082894\n",
            "training accuracy: 0.969\n",
            "validation loss: 0.610889\n",
            "validation accuracy: 0.868\n",
            "training loss: 0.069277\n",
            "training accuracy: 0.974\n",
            "validation loss: 0.636014\n",
            "validation accuracy: 0.871\n",
            "training loss: 0.060538\n",
            "training accuracy: 0.979\n",
            "validation loss: 0.647730\n",
            "validation accuracy: 0.871\n"
          ]
        }
      ],
      "source": [
        "model = OverfittingNeuralNetwork().to(device)\n",
        "opt = torch.optim.Adam(model.parameters(), lr=1e-3) # YOUR CODE HERE\n",
        "loss_func = nn.CrossEntropyLoss() # YOUR CODE HERE\n",
        "\n",
        "# Your experiments, come here\n",
        "\n",
        "train_loss, val_loss, train_accuracy, val_accuracy = fit(model, train_loader, test_loader, loss_func, opt, 50)\n"
      ]
    },
    {
      "cell_type": "code",
      "source": [
        "def plot_loss_acc(train_loss, val_loss, train_accuracy, val_accuracy):\n",
        "    fig, axes = plt.subplots(1, 2, figsize=(15, 5))\n",
        "    \n",
        "    axes[0].set_title('Loss')\n",
        "    axes[0].plot(train_loss, label='train')\n",
        "    axes[0].plot(val_loss, label='validation')\n",
        "    axes[0].set_xlabel('epoch')\n",
        "    axes[0].legend()\n",
        "\n",
        "    axes[1].set_title('Accuracy')\n",
        "    axes[1].plot(train_accuracy, label='train')\n",
        "    axes[1].plot(val_accuracy, label='validation')\n",
        "    axes[1].set_xlabel('epoch')\n",
        "    axes[1].legend()\n",
        "    plt.show()"
      ],
      "metadata": {
        "id": "M-u-ksxG3uer"
      },
      "execution_count": null,
      "outputs": []
    },
    {
      "cell_type": "code",
      "source": [
        "plot_loss_acc(train_loss, val_loss, train_accuracy, val_accuracy)"
      ],
      "metadata": {
        "colab": {
          "base_uri": "https://localhost:8080/",
          "height": 350
        },
        "id": "xLhlzGni3w50",
        "outputId": "3a191020-b1c1-4a05-ff93-a9e4204a4350"
      },
      "execution_count": null,
      "outputs": [
        {
          "output_type": "display_data",
          "data": {
            "text/plain": [
              "<Figure size 1080x360 with 2 Axes>"
            ],
            "image/png": "[encoded data removed]"
          },
          "metadata": {
            "needs_background": "light"
          }
        }
      ]
    },
    {
      "cell_type": "markdown",
      "metadata": {
        "id": "m_bmTrwi3z-8"
      },
      "source": [
        "### Task 3: Fix it.\n",
        "Fix the overfitted network from the previous step (at least partially) by using regularization techniques (Dropout/Batchnorm/...) and demonstrate the results. "
      ]
    },
    {
      "cell_type": "code",
      "execution_count": null,
      "metadata": {
        "id": "3gBPt6-V3z-8"
      },
      "outputs": [],
      "source": [
        "class FixedNeuralNetwork(nn.Module):\n",
        "    def __init__(self, input_shape=28*28, num_classes=10, input_channels=1):\n",
        "        super(self.__class__, self).__init__()\n",
        "        self.model = nn.Sequential(\n",
        "            nn.Flatten(), # This layer converts image into a vector to use Linear layers afterwards\n",
        "            # Your network structure comes here\n",
        "            nn.Linear(input_shape, 512),\n",
        "            nn.ReLU(),\n",
        "            nn.Linear(512, 258),\n",
        "            nn.ReLU(),\n",
        "            nn.Linear(258, 128),\n",
        "            nn.ReLU(),\n",
        "            nn.Linear(128, 64),\n",
        "            nn.ReLU(),\n",
        "            nn.Linear(64, 32),\n",
        "            nn.ReLU(),\n",
        "            nn.Linear(32, 16),\n",
        "            nn.ReLU(),\n",
        "            nn.Linear(16, num_classes)\n",
        "        )\n",
        "        \n",
        "    def forward(self, inp):       \n",
        "        out = self.model(inp)\n",
        "        return out"
      ]
    },
    {
      "cell_type": "code",
      "execution_count": null,
      "metadata": {
        "id": "naMU6Fwt3z-8",
        "colab": {
          "base_uri": "https://localhost:8080/"
        },
        "outputId": "d6191f9e-cfb4-4cbe-a65a-fabb66aae7a6"
      },
      "outputs": [
        {
          "output_type": "stream",
          "name": "stdout",
          "text": [
            "----------------------------------------------------------------\n",
            "        Layer (type)               Output Shape         Param #\n",
            "================================================================\n",
            "           Flatten-1                  [-1, 784]               0\n",
            "            Linear-2                  [-1, 512]         401,920\n",
            "              ReLU-3                  [-1, 512]               0\n",
            "            Linear-4                  [-1, 258]         132,354\n",
            "              ReLU-5                  [-1, 258]               0\n",
            "            Linear-6                  [-1, 128]          33,152\n",
            "              ReLU-7                  [-1, 128]               0\n",
            "            Linear-8                   [-1, 64]           8,256\n",
            "              ReLU-9                   [-1, 64]               0\n",
            "           Linear-10                   [-1, 32]           2,080\n",
            "             ReLU-11                   [-1, 32]               0\n",
            "           Linear-12                   [-1, 16]             528\n",
            "             ReLU-13                   [-1, 16]               0\n",
            "           Linear-14                   [-1, 10]             170\n",
            "================================================================\n",
            "Total params: 578,460\n",
            "Trainable params: 578,460\n",
            "Non-trainable params: 0\n",
            "----------------------------------------------------------------\n",
            "Input size (MB): 0.00\n",
            "Forward/backward pass size (MB): 0.02\n",
            "Params size (MB): 2.21\n",
            "Estimated Total Size (MB): 2.23\n",
            "----------------------------------------------------------------\n"
          ]
        }
      ],
      "source": [
        "torchsummary.summary(FixedNeuralNetwork().to(device), (28*28,))"
      ]
    },
    {
      "cell_type": "code",
      "execution_count": null,
      "metadata": {
        "id": "SrALzCcK3z-8",
        "colab": {
          "base_uri": "https://localhost:8080/"
        },
        "outputId": "8f12021b-79d3-4b91-af33-ff0817dbe8ac"
      },
      "outputs": [
        {
          "output_type": "stream",
          "name": "stdout",
          "text": [
            "training loss: 1.349115\n",
            "training accuracy: 0.455\n",
            "validation loss: 0.816868\n",
            "validation accuracy: 0.644\n",
            "training loss: 0.732989\n",
            "training accuracy: 0.691\n",
            "validation loss: 0.711814\n",
            "validation accuracy: 0.735\n",
            "training loss: 0.633111\n",
            "training accuracy: 0.753\n",
            "validation loss: 0.672610\n",
            "validation accuracy: 0.737\n",
            "training loss: 0.581519\n",
            "training accuracy: 0.775\n",
            "validation loss: 0.582461\n",
            "validation accuracy: 0.781\n",
            "training loss: 0.525466\n",
            "training accuracy: 0.801\n",
            "validation loss: 0.550902\n",
            "validation accuracy: 0.787\n",
            "training loss: 0.489426\n",
            "training accuracy: 0.818\n",
            "validation loss: 0.530817\n",
            "validation accuracy: 0.801\n",
            "training loss: 0.458883\n",
            "training accuracy: 0.832\n",
            "validation loss: 0.479781\n",
            "validation accuracy: 0.827\n",
            "training loss: 0.425098\n",
            "training accuracy: 0.844\n",
            "validation loss: 0.479476\n",
            "validation accuracy: 0.832\n",
            "training loss: 0.397639\n",
            "training accuracy: 0.854\n",
            "validation loss: 0.495798\n",
            "validation accuracy: 0.820\n",
            "training loss: 0.381729\n",
            "training accuracy: 0.860\n",
            "validation loss: 0.463938\n",
            "validation accuracy: 0.837\n",
            "training loss: 0.353451\n",
            "training accuracy: 0.869\n",
            "validation loss: 0.437735\n",
            "validation accuracy: 0.844\n",
            "training loss: 0.341031\n",
            "training accuracy: 0.875\n",
            "validation loss: 0.434868\n",
            "validation accuracy: 0.846\n",
            "training loss: 0.322506\n",
            "training accuracy: 0.882\n",
            "validation loss: 0.457030\n",
            "validation accuracy: 0.838\n",
            "training loss: 0.310748\n",
            "training accuracy: 0.885\n",
            "validation loss: 0.529837\n",
            "validation accuracy: 0.829\n",
            "training loss: 0.308964\n",
            "training accuracy: 0.887\n",
            "validation loss: 0.424196\n",
            "validation accuracy: 0.855\n",
            "training loss: 0.297703\n",
            "training accuracy: 0.891\n",
            "validation loss: 0.428050\n",
            "validation accuracy: 0.850\n",
            "training loss: 0.291107\n",
            "training accuracy: 0.893\n",
            "validation loss: 0.421420\n",
            "validation accuracy: 0.855\n",
            "training loss: 0.270125\n",
            "training accuracy: 0.900\n",
            "validation loss: 0.394672\n",
            "validation accuracy: 0.861\n",
            "training loss: 0.262019\n",
            "training accuracy: 0.904\n",
            "validation loss: 0.424804\n",
            "validation accuracy: 0.858\n",
            "training loss: 0.253174\n",
            "training accuracy: 0.907\n",
            "validation loss: 0.416704\n",
            "validation accuracy: 0.858\n"
          ]
        }
      ],
      "source": [
        "model = FixedNeuralNetwork().to(device)\n",
        "opt = torch.optim.Adam(model.parameters(), lr=1e-3)# YOUR CODE HERE\n",
        "loss_func = nn.CrossEntropyLoss()# YOUR CODE HERE\n",
        "\n",
        "# Your experiments, come here\n",
        "train_loss, val_loss, train_accuracy, val_accuracy = fit(model, train_loader, test_loader, loss_func, opt, 20)"
      ]
    },
    {
      "cell_type": "code",
      "source": [
        "plot_loss_acc(train_loss, val_loss, train_accuracy, val_accuracy)"
      ],
      "metadata": {
        "colab": {
          "base_uri": "https://localhost:8080/",
          "height": 350
        },
        "id": "McfxwE9q43Qa",
        "outputId": "0274799c-d629-4bcf-b6eb-d19279a30a06"
      },
      "execution_count": null,
      "outputs": [
        {
          "output_type": "display_data",
          "data": {
            "text/plain": [
              "<Figure size 1080x360 with 2 Axes>"
            ],
            "image/png": "[encoded data removed]"
          },
          "metadata": {
            "needs_background": "light"
          }
        }
      ]
    },
    {
      "cell_type": "code",
      "source": [
        "print(\"Test_accuracy = \", test(model, test_loader))"
      ],
      "metadata": {
        "colab": {
          "base_uri": "https://localhost:8080/"
        },
        "id": "oGXNLKdS6RdL",
        "outputId": "02c423cf-f28f-4385-b70b-ebea46f8d97c"
      },
      "execution_count": null,
      "outputs": [
        {
          "output_type": "stream",
          "name": "stdout",
          "text": [
            "Test_accuracy =  0.85791015625\n"
          ]
        }
      ]
    },
    {
      "cell_type": "markdown",
      "metadata": {
        "id": "dMui_uLJ7G0d"
      },
      "source": [
        "### Conclusions:\n",
        "_Write down small report with your conclusions and your ideas._"
      ]
    },
    {
      "cell_type": "markdown",
      "source": [
        "All this laboratory work was built on the same network architecture, in the first paragraph the number of blocks was changed, in the second and third paragraphs, the parameters could only be changed or batchnorm and dropout could be added.\n",
        "Without the help of batchnorm and dropout, we managed to achieve the required speed in the first task.\n",
        "In the second task (after what I saw on the graphs in the first), it was not difficult to retrain.\n",
        "In the third part, I was able to significantly reduce overfitting by just adding batchnorm and dropout.\n",
        "I also note that a network with dropout, but without batchnorm, learns for a very long time, so it makes sense to use batchnorm and dropout together when possible."
      ],
      "metadata": {
        "id": "bLsf8jIc6lA7"
      }
    }
  ],
  "metadata": {
    "accelerator": "GPU",
    "colab": {
      "provenance": []
    },
    "kernelspec": {
      "display_name": "Python 3",
      "language": "python",
      "name": "python3"
    },
    "language_info": {
      "codemirror_mode": {
        "name": "ipython",
        "version": 3
      },
      "file_extension": ".py",
      "mimetype": "text/x-python",
      "name": "python",
      "nbconvert_exporter": "python",
      "pygments_lexer": "ipython3",
      "version": "3.7.7"
    },
    "widgets": {
      "application/vnd.jupyter.widget-state+json": {
        "d76ac2c6fd9946c38ba7a5973590cb47": {
          "model_module": "@jupyter-widgets/controls",
          "model_name": "HBoxModel",
          "model_module_version": "1.5.0",
          "state": {
            "_dom_classes": [],
            "_model_module": "@jupyter-widgets/controls",
            "_model_module_version": "1.5.0",
            "_model_name": "HBoxModel",
            "_view_count": null,
            "_view_module": "@jupyter-widgets/controls",
            "_view_module_version": "1.5.0",
            "_view_name": "HBoxView",
            "box_style": "",
            "children": [
              "IPY_MODEL_42ebbf560ece47e39e94da626f4f4703",
              "IPY_MODEL_c14e39883f60488ab548bbf899fd4e1a",
              "IPY_MODEL_fc089abe87ea452eb304b21a52475fc0"
            ],
            "layout": "IPY_MODEL_b7dfa48686aa449083fef1d99471ac4c"
          }
        },
        "42ebbf560ece47e39e94da626f4f4703": {
          "model_module": "@jupyter-widgets/controls",
          "model_name": "HTMLModel",
          "model_module_version": "1.5.0",
          "state": {
            "_dom_classes": [],
            "_model_module": "@jupyter-widgets/controls",
            "_model_module_version": "1.5.0",
            "_model_name": "HTMLModel",
            "_view_count": null,
            "_view_module": "@jupyter-widgets/controls",
            "_view_module_version": "1.5.0",
            "_view_name": "HTMLView",
            "description": "",
            "description_tooltip": null,
            "layout": "IPY_MODEL_e17359fa9c3344e781b863084334cb71",
            "placeholder": "​",
            "style": "IPY_MODEL_40123fe9698d4b14b411f20e3f507e88",
            "value": "100%"
          }
        },
        "c14e39883f60488ab548bbf899fd4e1a": {
          "model_module": "@jupyter-widgets/controls",
          "model_name": "FloatProgressModel",
          "model_module_version": "1.5.0",
          "state": {
            "_dom_classes": [],
            "_model_module": "@jupyter-widgets/controls",
            "_model_module_version": "1.5.0",
            "_model_name": "FloatProgressModel",
            "_view_count": null,
            "_view_module": "@jupyter-widgets/controls",
            "_view_module_version": "1.5.0",
            "_view_name": "ProgressView",
            "bar_style": "success",
            "description": "",
            "description_tooltip": null,
            "layout": "IPY_MODEL_3d6d657e20e7473ebdfcbf6cf26a9638",
            "max": 26421880,
            "min": 0,
            "orientation": "horizontal",
            "style": "IPY_MODEL_d26ef12dd78648e3abd6d319d8ed3c8c",
            "value": 26421880
          }
        },
        "fc089abe87ea452eb304b21a52475fc0": {
          "model_module": "@jupyter-widgets/controls",
          "model_name": "HTMLModel",
          "model_module_version": "1.5.0",
          "state": {
            "_dom_classes": [],
            "_model_module": "@jupyter-widgets/controls",
            "_model_module_version": "1.5.0",
            "_model_name": "HTMLModel",
            "_view_count": null,
            "_view_module": "@jupyter-widgets/controls",
            "_view_module_version": "1.5.0",
            "_view_name": "HTMLView",
            "description": "",
            "description_tooltip": null,
            "layout": "IPY_MODEL_870001234a2d40adb50a0aa2dedfc555",
            "placeholder": "​",
            "style": "IPY_MODEL_55459a43a2264593bef40cbd9e4d9944",
            "value": " 26421880/26421880 [00:01&lt;00:00, 31236421.69it/s]"
          }
        },
        "b7dfa48686aa449083fef1d99471ac4c": {
          "model_module": "@jupyter-widgets/base",
          "model_name": "LayoutModel",
          "model_module_version": "1.2.0",
          "state": {
            "_model_module": "@jupyter-widgets/base",
            "_model_module_version": "1.2.0",
            "_model_name": "LayoutModel",
            "_view_count": null,
            "_view_module": "@jupyter-widgets/base",
            "_view_module_version": "1.2.0",
            "_view_name": "LayoutView",
            "align_content": null,
            "align_items": null,
            "align_self": null,
            "border": null,
            "bottom": null,
            "display": null,
            "flex": null,
            "flex_flow": null,
            "grid_area": null,
            "grid_auto_columns": null,
            "grid_auto_flow": null,
            "grid_auto_rows": null,
            "grid_column": null,
            "grid_gap": null,
            "grid_row": null,
            "grid_template_areas": null,
            "grid_template_columns": null,
            "grid_template_rows": null,
            "height": null,
            "justify_content": null,
            "justify_items": null,
            "left": null,
            "margin": null,
            "max_height": null,
            "max_width": null,
            "min_height": null,
            "min_width": null,
            "object_fit": null,
            "object_position": null,
            "order": null,
            "overflow": null,
            "overflow_x": null,
            "overflow_y": null,
            "padding": null,
            "right": null,
            "top": null,
            "visibility": null,
            "width": null
          }
        },
        "e17359fa9c3344e781b863084334cb71": {
          "model_module": "@jupyter-widgets/base",
          "model_name": "LayoutModel",
          "model_module_version": "1.2.0",
          "state": {
            "_model_module": "@jupyter-widgets/base",
            "_model_module_version": "1.2.0",
            "_model_name": "LayoutModel",
            "_view_count": null,
            "_view_module": "@jupyter-widgets/base",
            "_view_module_version": "1.2.0",
            "_view_name": "LayoutView",
            "align_content": null,
            "align_items": null,
            "align_self": null,
            "border": null,
            "bottom": null,
            "display": null,
            "flex": null,
            "flex_flow": null,
            "grid_area": null,
            "grid_auto_columns": null,
            "grid_auto_flow": null,
            "grid_auto_rows": null,
            "grid_column": null,
            "grid_gap": null,
            "grid_row": null,
            "grid_template_areas": null,
            "grid_template_columns": null,
            "grid_template_rows": null,
            "height": null,
            "justify_content": null,
            "justify_items": null,
            "left": null,
            "margin": null,
            "max_height": null,
            "max_width": null,
            "min_height": null,
            "min_width": null,
            "object_fit": null,
            "object_position": null,
            "order": null,
            "overflow": null,
            "overflow_x": null,
            "overflow_y": null,
            "padding": null,
            "right": null,
            "top": null,
            "visibility": null,
            "width": null
          }
        },
        "40123fe9698d4b14b411f20e3f507e88": {
          "model_module": "@jupyter-widgets/controls",
          "model_name": "DescriptionStyleModel",
          "model_module_version": "1.5.0",
          "state": {
            "_model_module": "@jupyter-widgets/controls",
            "_model_module_version": "1.5.0",
            "_model_name": "DescriptionStyleModel",
            "_view_count": null,
            "_view_module": "@jupyter-widgets/base",
            "_view_module_version": "1.2.0",
            "_view_name": "StyleView",
            "description_width": ""
          }
        },
        "3d6d657e20e7473ebdfcbf6cf26a9638": {
          "model_module": "@jupyter-widgets/base",
          "model_name": "LayoutModel",
          "model_module_version": "1.2.0",
          "state": {
            "_model_module": "@jupyter-widgets/base",
            "_model_module_version": "1.2.0",
            "_model_name": "LayoutModel",
            "_view_count": null,
            "_view_module": "@jupyter-widgets/base",
            "_view_module_version": "1.2.0",
            "_view_name": "LayoutView",
            "align_content": null,
            "align_items": null,
            "align_self": null,
            "border": null,
            "bottom": null,
            "display": null,
            "flex": null,
            "flex_flow": null,
            "grid_area": null,
            "grid_auto_columns": null,
            "grid_auto_flow": null,
            "grid_auto_rows": null,
            "grid_column": null,
            "grid_gap": null,
            "grid_row": null,
            "grid_template_areas": null,
            "grid_template_columns": null,
            "grid_template_rows": null,
            "height": null,
            "justify_content": null,
            "justify_items": null,
            "left": null,
            "margin": null,
            "max_height": null,
            "max_width": null,
            "min_height": null,
            "min_width": null,
            "object_fit": null,
            "object_position": null,
            "order": null,
            "overflow": null,
            "overflow_x": null,
            "overflow_y": null,
            "padding": null,
            "right": null,
            "top": null,
            "visibility": null,
            "width": null
          }
        },
        "d26ef12dd78648e3abd6d319d8ed3c8c": {
          "model_module": "@jupyter-widgets/controls",
          "model_name": "ProgressStyleModel",
          "model_module_version": "1.5.0",
          "state": {
            "_model_module": "@jupyter-widgets/controls",
            "_model_module_version": "1.5.0",
            "_model_name": "ProgressStyleModel",
            "_view_count": null,
            "_view_module": "@jupyter-widgets/base",
            "_view_module_version": "1.2.0",
            "_view_name": "StyleView",
            "bar_color": null,
            "description_width": ""
          }
        },
        "870001234a2d40adb50a0aa2dedfc555": {
          "model_module": "@jupyter-widgets/base",
          "model_name": "LayoutModel",
          "model_module_version": "1.2.0",
          "state": {
            "_model_module": "@jupyter-widgets/base",
            "_model_module_version": "1.2.0",
            "_model_name": "LayoutModel",
            "_view_count": null,
            "_view_module": "@jupyter-widgets/base",
            "_view_module_version": "1.2.0",
            "_view_name": "LayoutView",
            "align_content": null,
            "align_items": null,
            "align_self": null,
            "border": null,
            "bottom": null,
            "display": null,
            "flex": null,
            "flex_flow": null,
            "grid_area": null,
            "grid_auto_columns": null,
            "grid_auto_flow": null,
            "grid_auto_rows": null,
            "grid_column": null,
            "grid_gap": null,
            "grid_row": null,
            "grid_template_areas": null,
            "grid_template_columns": null,
            "grid_template_rows": null,
            "height": null,
            "justify_content": null,
            "justify_items": null,
            "left": null,
            "margin": null,
            "max_height": null,
            "max_width": null,
            "min_height": null,
            "min_width": null,
            "object_fit": null,
            "object_position": null,
            "order": null,
            "overflow": null,
            "overflow_x": null,
            "overflow_y": null,
            "padding": null,
            "right": null,
            "top": null,
            "visibility": null,
            "width": null
          }
        },
        "55459a43a2264593bef40cbd9e4d9944": {
          "model_module": "@jupyter-widgets/controls",
          "model_name": "DescriptionStyleModel",
          "model_module_version": "1.5.0",
          "state": {
            "_model_module": "@jupyter-widgets/controls",
            "_model_module_version": "1.5.0",
            "_model_name": "DescriptionStyleModel",
            "_view_count": null,
            "_view_module": "@jupyter-widgets/base",
            "_view_module_version": "1.2.0",
            "_view_name": "StyleView",
            "description_width": ""
          }
        },
        "eac899f503be412786003e0b5524dd77": {
          "model_module": "@jupyter-widgets/controls",
          "model_name": "HBoxModel",
          "model_module_version": "1.5.0",
          "state": {
            "_dom_classes": [],
            "_model_module": "@jupyter-widgets/controls",
            "_model_module_version": "1.5.0",
            "_model_name": "HBoxModel",
            "_view_count": null,
            "_view_module": "@jupyter-widgets/controls",
            "_view_module_version": "1.5.0",
            "_view_name": "HBoxView",
            "box_style": "",
            "children": [
              "IPY_MODEL_b926633dbdeb45efbffa830c3a3a5b13",
              "IPY_MODEL_b31a786796a548978a51c6a3dcae8631",
              "IPY_MODEL_cbe0546538584a24b643d960ee26fe97"
            ],
            "layout": "IPY_MODEL_504839292e844adb819563ff93ab11da"
          }
        },
        "b926633dbdeb45efbffa830c3a3a5b13": {
          "model_module": "@jupyter-widgets/controls",
          "model_name": "HTMLModel",
          "model_module_version": "1.5.0",
          "state": {
            "_dom_classes": [],
            "_model_module": "@jupyter-widgets/controls",
            "_model_module_version": "1.5.0",
            "_model_name": "HTMLModel",
            "_view_count": null,
            "_view_module": "@jupyter-widgets/controls",
            "_view_module_version": "1.5.0",
            "_view_name": "HTMLView",
            "description": "",
            "description_tooltip": null,
            "layout": "IPY_MODEL_3719236e9dff4305a495900c8e206ab0",
            "placeholder": "​",
            "style": "IPY_MODEL_edf2a310330e4fd59e8eba6d39cd56c3",
            "value": "100%"
          }
        },
        "b31a786796a548978a51c6a3dcae8631": {
          "model_module": "@jupyter-widgets/controls",
          "model_name": "FloatProgressModel",
          "model_module_version": "1.5.0",
          "state": {
            "_dom_classes": [],
            "_model_module": "@jupyter-widgets/controls",
            "_model_module_version": "1.5.0",
            "_model_name": "FloatProgressModel",
            "_view_count": null,
            "_view_module": "@jupyter-widgets/controls",
            "_view_module_version": "1.5.0",
            "_view_name": "ProgressView",
            "bar_style": "success",
            "description": "",
            "description_tooltip": null,
            "layout": "IPY_MODEL_610d1cdbe13840d7a10b5a1ae110b55a",
            "max": 29515,
            "min": 0,
            "orientation": "horizontal",
            "style": "IPY_MODEL_7d92fa256f684fb395d0db89e2e79e26",
            "value": 29515
          }
        },
        "cbe0546538584a24b643d960ee26fe97": {
          "model_module": "@jupyter-widgets/controls",
          "model_name": "HTMLModel",
          "model_module_version": "1.5.0",
          "state": {
            "_dom_classes": [],
            "_model_module": "@jupyter-widgets/controls",
            "_model_module_version": "1.5.0",
            "_model_name": "HTMLModel",
            "_view_count": null,
            "_view_module": "@jupyter-widgets/controls",
            "_view_module_version": "1.5.0",
            "_view_name": "HTMLView",
            "description": "",
            "description_tooltip": null,
            "layout": "IPY_MODEL_7b087fdcd76445f89455a631f2c4e994",
            "placeholder": "​",
            "style": "IPY_MODEL_c37408ae23ad4eb98d669eec06cf0b64",
            "value": " 29515/29515 [00:00&lt;00:00, 331126.31it/s]"
          }
        },
        "504839292e844adb819563ff93ab11da": {
          "model_module": "@jupyter-widgets/base",
          "model_name": "LayoutModel",
          "model_module_version": "1.2.0",
          "state": {
            "_model_module": "@jupyter-widgets/base",
            "_model_module_version": "1.2.0",
            "_model_name": "LayoutModel",
            "_view_count": null,
            "_view_module": "@jupyter-widgets/base",
            "_view_module_version": "1.2.0",
            "_view_name": "LayoutView",
            "align_content": null,
            "align_items": null,
            "align_self": null,
            "border": null,
            "bottom": null,
            "display": null,
            "flex": null,
            "flex_flow": null,
            "grid_area": null,
            "grid_auto_columns": null,
            "grid_auto_flow": null,
            "grid_auto_rows": null,
            "grid_column": null,
            "grid_gap": null,
            "grid_row": null,
            "grid_template_areas": null,
            "grid_template_columns": null,
            "grid_template_rows": null,
            "height": null,
            "justify_content": null,
            "justify_items": null,
            "left": null,
            "margin": null,
            "max_height": null,
            "max_width": null,
            "min_height": null,
            "min_width": null,
            "object_fit": null,
            "object_position": null,
            "order": null,
            "overflow": null,
            "overflow_x": null,
            "overflow_y": null,
            "padding": null,
            "right": null,
            "top": null,
            "visibility": null,
            "width": null
          }
        },
        "3719236e9dff4305a495900c8e206ab0": {
          "model_module": "@jupyter-widgets/base",
          "model_name": "LayoutModel",
          "model_module_version": "1.2.0",
          "state": {
            "_model_module": "@jupyter-widgets/base",
            "_model_module_version": "1.2.0",
            "_model_name": "LayoutModel",
            "_view_count": null,
            "_view_module": "@jupyter-widgets/base",
            "_view_module_version": "1.2.0",
            "_view_name": "LayoutView",
            "align_content": null,
            "align_items": null,
            "align_self": null,
            "border": null,
            "bottom": null,
            "display": null,
            "flex": null,
            "flex_flow": null,
            "grid_area": null,
            "grid_auto_columns": null,
            "grid_auto_flow": null,
            "grid_auto_rows": null,
            "grid_column": null,
            "grid_gap": null,
            "grid_row": null,
            "grid_template_areas": null,
            "grid_template_columns": null,
            "grid_template_rows": null,
            "height": null,
            "justify_content": null,
            "justify_items": null,
            "left": null,
            "margin": null,
            "max_height": null,
            "max_width": null,
            "min_height": null,
            "min_width": null,
            "object_fit": null,
            "object_position": null,
            "order": null,
            "overflow": null,
            "overflow_x": null,
            "overflow_y": null,
            "padding": null,
            "right": null,
            "top": null,
            "visibility": null,
            "width": null
          }
        },
        "edf2a310330e4fd59e8eba6d39cd56c3": {
          "model_module": "@jupyter-widgets/controls",
          "model_name": "DescriptionStyleModel",
          "model_module_version": "1.5.0",
          "state": {
            "_model_module": "@jupyter-widgets/controls",
            "_model_module_version": "1.5.0",
            "_model_name": "DescriptionStyleModel",
            "_view_count": null,
            "_view_module": "@jupyter-widgets/base",
            "_view_module_version": "1.2.0",
            "_view_name": "StyleView",
            "description_width": ""
          }
        },
        "610d1cdbe13840d7a10b5a1ae110b55a": {
          "model_module": "@jupyter-widgets/base",
          "model_name": "LayoutModel",
          "model_module_version": "1.2.0",
          "state": {
            "_model_module": "@jupyter-widgets/base",
            "_model_module_version": "1.2.0",
            "_model_name": "LayoutModel",
            "_view_count": null,
            "_view_module": "@jupyter-widgets/base",
            "_view_module_version": "1.2.0",
            "_view_name": "LayoutView",
            "align_content": null,
            "align_items": null,
            "align_self": null,
            "border": null,
            "bottom": null,
            "display": null,
            "flex": null,
            "flex_flow": null,
            "grid_area": null,
            "grid_auto_columns": null,
            "grid_auto_flow": null,
            "grid_auto_rows": null,
            "grid_column": null,
            "grid_gap": null,
            "grid_row": null,
            "grid_template_areas": null,
            "grid_template_columns": null,
            "grid_template_rows": null,
            "height": null,
            "justify_content": null,
            "justify_items": null,
            "left": null,
            "margin": null,
            "max_height": null,
            "max_width": null,
            "min_height": null,
            "min_width": null,
            "object_fit": null,
            "object_position": null,
            "order": null,
            "overflow": null,
            "overflow_x": null,
            "overflow_y": null,
            "padding": null,
            "right": null,
            "top": null,
            "visibility": null,
            "width": null
          }
        },
        "7d92fa256f684fb395d0db89e2e79e26": {
          "model_module": "@jupyter-widgets/controls",
          "model_name": "ProgressStyleModel",
          "model_module_version": "1.5.0",
          "state": {
            "_model_module": "@jupyter-widgets/controls",
            "_model_module_version": "1.5.0",
            "_model_name": "ProgressStyleModel",
            "_view_count": null,
            "_view_module": "@jupyter-widgets/base",
            "_view_module_version": "1.2.0",
            "_view_name": "StyleView",
            "bar_color": null,
            "description_width": ""
          }
        },
        "7b087fdcd76445f89455a631f2c4e994": {
          "model_module": "@jupyter-widgets/base",
          "model_name": "LayoutModel",
          "model_module_version": "1.2.0",
          "state": {
            "_model_module": "@jupyter-widgets/base",
            "_model_module_version": "1.2.0",
            "_model_name": "LayoutModel",
            "_view_count": null,
            "_view_module": "@jupyter-widgets/base",
            "_view_module_version": "1.2.0",
            "_view_name": "LayoutView",
            "align_content": null,
            "align_items": null,
            "align_self": null,
            "border": null,
            "bottom": null,
            "display": null,
            "flex": null,
            "flex_flow": null,
            "grid_area": null,
            "grid_auto_columns": null,
            "grid_auto_flow": null,
            "grid_auto_rows": null,
            "grid_column": null,
            "grid_gap": null,
            "grid_row": null,
            "grid_template_areas": null,
            "grid_template_columns": null,
            "grid_template_rows": null,
            "height": null,
            "justify_content": null,
            "justify_items": null,
            "left": null,
            "margin": null,
            "max_height": null,
            "max_width": null,
            "min_height": null,
            "min_width": null,
            "object_fit": null,
            "object_position": null,
            "order": null,
            "overflow": null,
            "overflow_x": null,
            "overflow_y": null,
            "padding": null,
            "right": null,
            "top": null,
            "visibility": null,
            "width": null
          }
        },
        "c37408ae23ad4eb98d669eec06cf0b64": {
          "model_module": "@jupyter-widgets/controls",
          "model_name": "DescriptionStyleModel",
          "model_module_version": "1.5.0",
          "state": {
            "_model_module": "@jupyter-widgets/controls",
            "_model_module_version": "1.5.0",
            "_model_name": "DescriptionStyleModel",
            "_view_count": null,
            "_view_module": "@jupyter-widgets/base",
            "_view_module_version": "1.2.0",
            "_view_name": "StyleView",
            "description_width": ""
          }
        },
        "e00eff3dffd1436597ccac40719d5b5c": {
          "model_module": "@jupyter-widgets/controls",
          "model_name": "HBoxModel",
          "model_module_version": "1.5.0",
          "state": {
            "_dom_classes": [],
            "_model_module": "@jupyter-widgets/controls",
            "_model_module_version": "1.5.0",
            "_model_name": "HBoxModel",
            "_view_count": null,
            "_view_module": "@jupyter-widgets/controls",
            "_view_module_version": "1.5.0",
            "_view_name": "HBoxView",
            "box_style": "",
            "children": [
              "IPY_MODEL_13fae0f4df944b629edbb8246cdd94ba",
              "IPY_MODEL_017a93cc4171447abfee54e3fa7d84f4",
              "IPY_MODEL_44cbcd42d1c24c818dd952f22292fd52"
            ],
            "layout": "IPY_MODEL_8ac2092ef20746508a6e7b12c8919746"
          }
        },
        "13fae0f4df944b629edbb8246cdd94ba": {
          "model_module": "@jupyter-widgets/controls",
          "model_name": "HTMLModel",
          "model_module_version": "1.5.0",
          "state": {
            "_dom_classes": [],
            "_model_module": "@jupyter-widgets/controls",
            "_model_module_version": "1.5.0",
            "_model_name": "HTMLModel",
            "_view_count": null,
            "_view_module": "@jupyter-widgets/controls",
            "_view_module_version": "1.5.0",
            "_view_name": "HTMLView",
            "description": "",
            "description_tooltip": null,
            "layout": "IPY_MODEL_485c88bc849743118bb0f5b2129b2b79",
            "placeholder": "​",
            "style": "IPY_MODEL_ae3bcecfecb8461e9ac3904730a39115",
            "value": "100%"
          }
        },
        "017a93cc4171447abfee54e3fa7d84f4": {
          "model_module": "@jupyter-widgets/controls",
          "model_name": "FloatProgressModel",
          "model_module_version": "1.5.0",
          "state": {
            "_dom_classes": [],
            "_model_module": "@jupyter-widgets/controls",
            "_model_module_version": "1.5.0",
            "_model_name": "FloatProgressModel",
            "_view_count": null,
            "_view_module": "@jupyter-widgets/controls",
            "_view_module_version": "1.5.0",
            "_view_name": "ProgressView",
            "bar_style": "success",
            "description": "",
            "description_tooltip": null,
            "layout": "IPY_MODEL_cad09731e59f4f7cab6506420d01a774",
            "max": 4422102,
            "min": 0,
            "orientation": "horizontal",
            "style": "IPY_MODEL_fc1fd234224f4bd08a5a88df3bcd38d3",
            "value": 4422102
          }
        },
        "44cbcd42d1c24c818dd952f22292fd52": {
          "model_module": "@jupyter-widgets/controls",
          "model_name": "HTMLModel",
          "model_module_version": "1.5.0",
          "state": {
            "_dom_classes": [],
            "_model_module": "@jupyter-widgets/controls",
            "_model_module_version": "1.5.0",
            "_model_name": "HTMLModel",
            "_view_count": null,
            "_view_module": "@jupyter-widgets/controls",
            "_view_module_version": "1.5.0",
            "_view_name": "HTMLView",
            "description": "",
            "description_tooltip": null,
            "layout": "IPY_MODEL_9416adefa4ee4fd8be3865914f4c26e2",
            "placeholder": "​",
            "style": "IPY_MODEL_bd2eac056d2b447a961d2710cbb28b68",
            "value": " 4422102/4422102 [00:00&lt;00:00, 4152799.09it/s]"
          }
        },
        "8ac2092ef20746508a6e7b12c8919746": {
          "model_module": "@jupyter-widgets/base",
          "model_name": "LayoutModel",
          "model_module_version": "1.2.0",
          "state": {
            "_model_module": "@jupyter-widgets/base",
            "_model_module_version": "1.2.0",
            "_model_name": "LayoutModel",
            "_view_count": null,
            "_view_module": "@jupyter-widgets/base",
            "_view_module_version": "1.2.0",
            "_view_name": "LayoutView",
            "align_content": null,
            "align_items": null,
            "align_self": null,
            "border": null,
            "bottom": null,
            "display": null,
            "flex": null,
            "flex_flow": null,
            "grid_area": null,
            "grid_auto_columns": null,
            "grid_auto_flow": null,
            "grid_auto_rows": null,
            "grid_column": null,
            "grid_gap": null,
            "grid_row": null,
            "grid_template_areas": null,
            "grid_template_columns": null,
            "grid_template_rows": null,
            "height": null,
            "justify_content": null,
            "justify_items": null,
            "left": null,
            "margin": null,
            "max_height": null,
            "max_width": null,
            "min_height": null,
            "min_width": null,
            "object_fit": null,
            "object_position": null,
            "order": null,
            "overflow": null,
            "overflow_x": null,
            "overflow_y": null,
            "padding": null,
            "right": null,
            "top": null,
            "visibility": null,
            "width": null
          }
        },
        "485c88bc849743118bb0f5b2129b2b79": {
          "model_module": "@jupyter-widgets/base",
          "model_name": "LayoutModel",
          "model_module_version": "1.2.0",
          "state": {
            "_model_module": "@jupyter-widgets/base",
            "_model_module_version": "1.2.0",
            "_model_name": "LayoutModel",
            "_view_count": null,
            "_view_module": "@jupyter-widgets/base",
            "_view_module_version": "1.2.0",
            "_view_name": "LayoutView",
            "align_content": null,
            "align_items": null,
            "align_self": null,
            "border": null,
            "bottom": null,
            "display": null,
            "flex": null,
            "flex_flow": null,
            "grid_area": null,
            "grid_auto_columns": null,
            "grid_auto_flow": null,
            "grid_auto_rows": null,
            "grid_column": null,
            "grid_gap": null,
            "grid_row": null,
            "grid_template_areas": null,
            "grid_template_columns": null,
            "grid_template_rows": null,
            "height": null,
            "justify_content": null,
            "justify_items": null,
            "left": null,
            "margin": null,
            "max_height": null,
            "max_width": null,
            "min_height": null,
            "min_width": null,
            "object_fit": null,
            "object_position": null,
            "order": null,
            "overflow": null,
            "overflow_x": null,
            "overflow_y": null,
            "padding": null,
            "right": null,
            "top": null,
            "visibility": null,
            "width": null
          }
        },
        "ae3bcecfecb8461e9ac3904730a39115": {
          "model_module": "@jupyter-widgets/controls",
          "model_name": "DescriptionStyleModel",
          "model_module_version": "1.5.0",
          "state": {
            "_model_module": "@jupyter-widgets/controls",
            "_model_module_version": "1.5.0",
            "_model_name": "DescriptionStyleModel",
            "_view_count": null,
            "_view_module": "@jupyter-widgets/base",
            "_view_module_version": "1.2.0",
            "_view_name": "StyleView",
            "description_width": ""
          }
        },
        "cad09731e59f4f7cab6506420d01a774": {
          "model_module": "@jupyter-widgets/base",
          "model_name": "LayoutModel",
          "model_module_version": "1.2.0",
          "state": {
            "_model_module": "@jupyter-widgets/base",
            "_model_module_version": "1.2.0",
            "_model_name": "LayoutModel",
            "_view_count": null,
            "_view_module": "@jupyter-widgets/base",
            "_view_module_version": "1.2.0",
            "_view_name": "LayoutView",
            "align_content": null,
            "align_items": null,
            "align_self": null,
            "border": null,
            "bottom": null,
            "display": null,
            "flex": null,
            "flex_flow": null,
            "grid_area": null,
            "grid_auto_columns": null,
            "grid_auto_flow": null,
            "grid_auto_rows": null,
            "grid_column": null,
            "grid_gap": null,
            "grid_row": null,
            "grid_template_areas": null,
            "grid_template_columns": null,
            "grid_template_rows": null,
            "height": null,
            "justify_content": null,
            "justify_items": null,
            "left": null,
            "margin": null,
            "max_height": null,
            "max_width": null,
            "min_height": null,
            "min_width": null,
            "object_fit": null,
            "object_position": null,
            "order": null,
            "overflow": null,
            "overflow_x": null,
            "overflow_y": null,
            "padding": null,
            "right": null,
            "top": null,
            "visibility": null,
            "width": null
          }
        },
        "fc1fd234224f4bd08a5a88df3bcd38d3": {
          "model_module": "@jupyter-widgets/controls",
          "model_name": "ProgressStyleModel",
          "model_module_version": "1.5.0",
          "state": {
            "_model_module": "@jupyter-widgets/controls",
            "_model_module_version": "1.5.0",
            "_model_name": "ProgressStyleModel",
            "_view_count": null,
            "_view_module": "@jupyter-widgets/base",
            "_view_module_version": "1.2.0",
            "_view_name": "StyleView",
            "bar_color": null,
            "description_width": ""
          }
        },
        "9416adefa4ee4fd8be3865914f4c26e2": {
          "model_module": "@jupyter-widgets/base",
          "model_name": "LayoutModel",
          "model_module_version": "1.2.0",
          "state": {
            "_model_module": "@jupyter-widgets/base",
            "_model_module_version": "1.2.0",
            "_model_name": "LayoutModel",
            "_view_count": null,
            "_view_module": "@jupyter-widgets/base",
            "_view_module_version": "1.2.0",
            "_view_name": "LayoutView",
            "align_content": null,
            "align_items": null,
            "align_self": null,
            "border": null,
            "bottom": null,
            "display": null,
            "flex": null,
            "flex_flow": null,
            "grid_area": null,
            "grid_auto_columns": null,
            "grid_auto_flow": null,
            "grid_auto_rows": null,
            "grid_column": null,
            "grid_gap": null,
            "grid_row": null,
            "grid_template_areas": null,
            "grid_template_columns": null,
            "grid_template_rows": null,
            "height": null,
            "justify_content": null,
            "justify_items": null,
            "left": null,
            "margin": null,
            "max_height": null,
            "max_width": null,
            "min_height": null,
            "min_width": null,
            "object_fit": null,
            "object_position": null,
            "order": null,
            "overflow": null,
            "overflow_x": null,
            "overflow_y": null,
            "padding": null,
            "right": null,
            "top": null,
            "visibility": null,
            "width": null
          }
        },
        "bd2eac056d2b447a961d2710cbb28b68": {
          "model_module": "@jupyter-widgets/controls",
          "model_name": "DescriptionStyleModel",
          "model_module_version": "1.5.0",
          "state": {
            "_model_module": "@jupyter-widgets/controls",
            "_model_module_version": "1.5.0",
            "_model_name": "DescriptionStyleModel",
            "_view_count": null,
            "_view_module": "@jupyter-widgets/base",
            "_view_module_version": "1.2.0",
            "_view_name": "StyleView",
            "description_width": ""
          }
        },
        "3925544baceb4e6ca9a2ce51e3fa7d72": {
          "model_module": "@jupyter-widgets/controls",
          "model_name": "HBoxModel",
          "model_module_version": "1.5.0",
          "state": {
            "_dom_classes": [],
            "_model_module": "@jupyter-widgets/controls",
            "_model_module_version": "1.5.0",
            "_model_name": "HBoxModel",
            "_view_count": null,
            "_view_module": "@jupyter-widgets/controls",
            "_view_module_version": "1.5.0",
            "_view_name": "HBoxView",
            "box_style": "",
            "children": [
              "IPY_MODEL_aa7e1bb81c8c4a019d3031c4bdbdf63a",
              "IPY_MODEL_310f1be9f2674b46b30d2db853b55f5e",
              "IPY_MODEL_e62f87fc81f44a6e83760b724b79b607"
            ],
            "layout": "IPY_MODEL_4c761140ce064c908b163b0f50a2ac83"
          }
        },
        "aa7e1bb81c8c4a019d3031c4bdbdf63a": {
          "model_module": "@jupyter-widgets/controls",
          "model_name": "HTMLModel",
          "model_module_version": "1.5.0",
          "state": {
            "_dom_classes": [],
            "_model_module": "@jupyter-widgets/controls",
            "_model_module_version": "1.5.0",
            "_model_name": "HTMLModel",
            "_view_count": null,
            "_view_module": "@jupyter-widgets/controls",
            "_view_module_version": "1.5.0",
            "_view_name": "HTMLView",
            "description": "",
            "description_tooltip": null,
            "layout": "IPY_MODEL_df54dc2e5a744c9eb548b94550fe1801",
            "placeholder": "​",
            "style": "IPY_MODEL_242f6b1d12f54581aed8d18ff7c42866",
            "value": "100%"
          }
        },
        "310f1be9f2674b46b30d2db853b55f5e": {
          "model_module": "@jupyter-widgets/controls",
          "model_name": "FloatProgressModel",
          "model_module_version": "1.5.0",
          "state": {
            "_dom_classes": [],
            "_model_module": "@jupyter-widgets/controls",
            "_model_module_version": "1.5.0",
            "_model_name": "FloatProgressModel",
            "_view_count": null,
            "_view_module": "@jupyter-widgets/controls",
            "_view_module_version": "1.5.0",
            "_view_name": "ProgressView",
            "bar_style": "success",
            "description": "",
            "description_tooltip": null,
            "layout": "IPY_MODEL_c4e877a3b5464ee9850c5e1dd9306e8c",
            "max": 5148,
            "min": 0,
            "orientation": "horizontal",
            "style": "IPY_MODEL_3be95d94e68c48b4bea89f85539e8d20",
            "value": 5148
          }
        },
        "e62f87fc81f44a6e83760b724b79b607": {
          "model_module": "@jupyter-widgets/controls",
          "model_name": "HTMLModel",
          "model_module_version": "1.5.0",
          "state": {
            "_dom_classes": [],
            "_model_module": "@jupyter-widgets/controls",
            "_model_module_version": "1.5.0",
            "_model_name": "HTMLModel",
            "_view_count": null,
            "_view_module": "@jupyter-widgets/controls",
            "_view_module_version": "1.5.0",
            "_view_name": "HTMLView",
            "description": "",
            "description_tooltip": null,
            "layout": "IPY_MODEL_79653fdac3cc428481db1f03e3ea386d",
            "placeholder": "​",
            "style": "IPY_MODEL_e51c22bf836146feaa15b0a438f1449f",
            "value": " 5148/5148 [00:00&lt;00:00, 62782.85it/s]"
          }
        },
        "4c761140ce064c908b163b0f50a2ac83": {
          "model_module": "@jupyter-widgets/base",
          "model_name": "LayoutModel",
          "model_module_version": "1.2.0",
          "state": {
            "_model_module": "@jupyter-widgets/base",
            "_model_module_version": "1.2.0",
            "_model_name": "LayoutModel",
            "_view_count": null,
            "_view_module": "@jupyter-widgets/base",
            "_view_module_version": "1.2.0",
            "_view_name": "LayoutView",
            "align_content": null,
            "align_items": null,
            "align_self": null,
            "border": null,
            "bottom": null,
            "display": null,
            "flex": null,
            "flex_flow": null,
            "grid_area": null,
            "grid_auto_columns": null,
            "grid_auto_flow": null,
            "grid_auto_rows": null,
            "grid_column": null,
            "grid_gap": null,
            "grid_row": null,
            "grid_template_areas": null,
            "grid_template_columns": null,
            "grid_template_rows": null,
            "height": null,
            "justify_content": null,
            "justify_items": null,
            "left": null,
            "margin": null,
            "max_height": null,
            "max_width": null,
            "min_height": null,
            "min_width": null,
            "object_fit": null,
            "object_position": null,
            "order": null,
            "overflow": null,
            "overflow_x": null,
            "overflow_y": null,
            "padding": null,
            "right": null,
            "top": null,
            "visibility": null,
            "width": null
          }
        },
        "df54dc2e5a744c9eb548b94550fe1801": {
          "model_module": "@jupyter-widgets/base",
          "model_name": "LayoutModel",
          "model_module_version": "1.2.0",
          "state": {
            "_model_module": "@jupyter-widgets/base",
            "_model_module_version": "1.2.0",
            "_model_name": "LayoutModel",
            "_view_count": null,
            "_view_module": "@jupyter-widgets/base",
            "_view_module_version": "1.2.0",
            "_view_name": "LayoutView",
            "align_content": null,
            "align_items": null,
            "align_self": null,
            "border": null,
            "bottom": null,
            "display": null,
            "flex": null,
            "flex_flow": null,
            "grid_area": null,
            "grid_auto_columns": null,
            "grid_auto_flow": null,
            "grid_auto_rows": null,
            "grid_column": null,
            "grid_gap": null,
            "grid_row": null,
            "grid_template_areas": null,
            "grid_template_columns": null,
            "grid_template_rows": null,
            "height": null,
            "justify_content": null,
            "justify_items": null,
            "left": null,
            "margin": null,
            "max_height": null,
            "max_width": null,
            "min_height": null,
            "min_width": null,
            "object_fit": null,
            "object_position": null,
            "order": null,
            "overflow": null,
            "overflow_x": null,
            "overflow_y": null,
            "padding": null,
            "right": null,
            "top": null,
            "visibility": null,
            "width": null
          }
        },
        "242f6b1d12f54581aed8d18ff7c42866": {
          "model_module": "@jupyter-widgets/controls",
          "model_name": "DescriptionStyleModel",
          "model_module_version": "1.5.0",
          "state": {
            "_model_module": "@jupyter-widgets/controls",
            "_model_module_version": "1.5.0",
            "_model_name": "DescriptionStyleModel",
            "_view_count": null,
            "_view_module": "@jupyter-widgets/base",
            "_view_module_version": "1.2.0",
            "_view_name": "StyleView",
            "description_width": ""
          }
        },
        "c4e877a3b5464ee9850c5e1dd9306e8c": {
          "model_module": "@jupyter-widgets/base",
          "model_name": "LayoutModel",
          "model_module_version": "1.2.0",
          "state": {
            "_model_module": "@jupyter-widgets/base",
            "_model_module_version": "1.2.0",
            "_model_name": "LayoutModel",
            "_view_count": null,
            "_view_module": "@jupyter-widgets/base",
            "_view_module_version": "1.2.0",
            "_view_name": "LayoutView",
            "align_content": null,
            "align_items": null,
            "align_self": null,
            "border": null,
            "bottom": null,
            "display": null,
            "flex": null,
            "flex_flow": null,
            "grid_area": null,
            "grid_auto_columns": null,
            "grid_auto_flow": null,
            "grid_auto_rows": null,
            "grid_column": null,
            "grid_gap": null,
            "grid_row": null,
            "grid_template_areas": null,
            "grid_template_columns": null,
            "grid_template_rows": null,
            "height": null,
            "justify_content": null,
            "justify_items": null,
            "left": null,
            "margin": null,
            "max_height": null,
            "max_width": null,
            "min_height": null,
            "min_width": null,
            "object_fit": null,
            "object_position": null,
            "order": null,
            "overflow": null,
            "overflow_x": null,
            "overflow_y": null,
            "padding": null,
            "right": null,
            "top": null,
            "visibility": null,
            "width": null
          }
        },
        "3be95d94e68c48b4bea89f85539e8d20": {
          "model_module": "@jupyter-widgets/controls",
          "model_name": "ProgressStyleModel",
          "model_module_version": "1.5.0",
          "state": {
            "_model_module": "@jupyter-widgets/controls",
            "_model_module_version": "1.5.0",
            "_model_name": "ProgressStyleModel",
            "_view_count": null,
            "_view_module": "@jupyter-widgets/base",
            "_view_module_version": "1.2.0",
            "_view_name": "StyleView",
            "bar_color": null,
            "description_width": ""
          }
        },
        "79653fdac3cc428481db1f03e3ea386d": {
          "model_module": "@jupyter-widgets/base",
          "model_name": "LayoutModel",
          "model_module_version": "1.2.0",
          "state": {
            "_model_module": "@jupyter-widgets/base",
            "_model_module_version": "1.2.0",
            "_model_name": "LayoutModel",
            "_view_count": null,
            "_view_module": "@jupyter-widgets/base",
            "_view_module_version": "1.2.0",
            "_view_name": "LayoutView",
            "align_content": null,
            "align_items": null,
            "align_self": null,
            "border": null,
            "bottom": null,
            "display": null,
            "flex": null,
            "flex_flow": null,
            "grid_area": null,
            "grid_auto_columns": null,
            "grid_auto_flow": null,
            "grid_auto_rows": null,
            "grid_column": null,
            "grid_gap": null,
            "grid_row": null,
            "grid_template_areas": null,
            "grid_template_columns": null,
            "grid_template_rows": null,
            "height": null,
            "justify_content": null,
            "justify_items": null,
            "left": null,
            "margin": null,
            "max_height": null,
            "max_width": null,
            "min_height": null,
            "min_width": null,
            "object_fit": null,
            "object_position": null,
            "order": null,
            "overflow": null,
            "overflow_x": null,
            "overflow_y": null,
            "padding": null,
            "right": null,
            "top": null,
            "visibility": null,
            "width": null
          }
        },
        "e51c22bf836146feaa15b0a438f1449f": {
          "model_module": "@jupyter-widgets/controls",
          "model_name": "DescriptionStyleModel",
          "model_module_version": "1.5.0",
          "state": {
            "_model_module": "@jupyter-widgets/controls",
            "_model_module_version": "1.5.0",
            "_model_name": "DescriptionStyleModel",
            "_view_count": null,
            "_view_module": "@jupyter-widgets/base",
            "_view_module_version": "1.2.0",
            "_view_name": "StyleView",
            "description_width": ""
          }
        }
      }
    }
  },
  "nbformat": 4,
  "nbformat_minor": 0
}